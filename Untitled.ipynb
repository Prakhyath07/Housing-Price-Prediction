{
 "cells": [
  {
   "cell_type": "markdown",
   "id": "83b37994",
   "metadata": {},
   "source": [
    "fdaasfas"
   ]
  },
  {
   "cell_type": "code",
   "execution_count": 2,
   "id": "d6885212",
   "metadata": {},
   "outputs": [],
   "source": [
    "import os"
   ]
  },
  {
   "cell_type": "code",
   "execution_count": 10,
   "id": "f1d46c99",
   "metadata": {},
   "outputs": [],
   "source": [
    "os.makedirs(r\"C:\\ineuron\\9.ML_projects\\Housing-Price-Prediction\\housing\\artifact\\data_ingestion\\1_1\")"
   ]
  },
  {
   "cell_type": "code",
   "execution_count": null,
   "id": "bd8f9a30",
   "metadata": {},
   "outputs": [],
   "source": []
  }
 ],
 "metadata": {
  "kernelspec": {
   "display_name": "Python 3 (ipykernel)",
   "language": "python",
   "name": "python3"
  },
  "language_info": {
   "codemirror_mode": {
    "name": "ipython",
    "version": 3
   },
   "file_extension": ".py",
   "mimetype": "text/x-python",
   "name": "python",
   "nbconvert_exporter": "python",
   "pygments_lexer": "ipython3",
   "version": "3.8.8"
  }
 },
 "nbformat": 4,
 "nbformat_minor": 5
}
